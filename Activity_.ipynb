{
  "nbformat": 4,
  "nbformat_minor": 0,
  "metadata": {
    "colab": {
      "provenance": [],
      "authorship_tag": "ABX9TyN7VEODfacbUhhBBw2THmYG",
      "include_colab_link": true
    },
    "kernelspec": {
      "name": "python3",
      "display_name": "Python 3"
    },
    "language_info": {
      "name": "python"
    }
  },
  "cells": [
    {
      "cell_type": "markdown",
      "metadata": {
        "id": "view-in-github",
        "colab_type": "text"
      },
      "source": [
        "<a href=\"https://colab.research.google.com/github/Angela-Mae-Cal/DSA-58011/blob/main/Activity_.ipynb\" target=\"_parent\"><img src=\"https://colab.research.google.com/assets/colab-badge.svg\" alt=\"Open In Colab\"/></a>"
      ]
    },
    {
      "cell_type": "markdown",
      "source": [
        "Write a Python program to create an array of 10 integers and display the array items. Access individual elements through indexes and compute for the sum.\n",
        "*italicized text*"
      ],
      "metadata": {
        "id": "7aEeyK7ohYOY"
      }
    },
    {
      "cell_type": "code",
      "source": [
        "from array import *\n",
        "array_num = array('i', [1,3,5,7,9,8,2,6,4,10])\n",
        "for i in array_num:\n",
        "  print(i)\n",
        "\n",
        "print(\"Access first three items individually\") \n",
        "print(array_num[0])\n",
        "print(array_num[1])\n",
        "print(array_num[2])\n",
        "print(array_num[3])\n",
        "print(array_num[4])\n",
        "print(array_num[5])\n",
        "print(array_num[6])\n",
        "print(array_num[7])\n",
        "print(array_num[8])\n",
        "print(array_num[9])\n",
        "\n",
        "def _sum(array):\n",
        "  sum = 0\n",
        "  for i in array_num:\n",
        "    sum = sum + i\n",
        "    return(sum)\n",
        "\n",
        "arr = []\n",
        "arr = [1,3,5,7,9,8,2,6,4,10]\n",
        "n = len(arr)\n",
        "ans = _sum(array)\n",
        "print('Sum of the array is ', ans)"
      ],
      "metadata": {
        "colab": {
          "base_uri": "https://localhost:8080/"
        },
        "id": "qY6HrmgPg5Vq",
        "outputId": "c7132be7-2069-47ea-f027-63a8e17a7250"
      },
      "execution_count": 2,
      "outputs": [
        {
          "output_type": "stream",
          "name": "stdout",
          "text": [
            "1\n",
            "3\n",
            "5\n",
            "7\n",
            "9\n",
            "8\n",
            "2\n",
            "6\n",
            "4\n",
            "10\n",
            "Access first three items individually\n",
            "1\n",
            "3\n",
            "5\n",
            "7\n",
            "9\n",
            "8\n",
            "2\n",
            "6\n",
            "4\n",
            "10\n",
            "Sum of the array is  1\n"
          ]
        }
      ]
    },
    {
      "cell_type": "markdown",
      "source": [
        "Write a Python program to append a new item to the end of the array. Original array: numbers = [1, 2, 3, 4, 5, 6, 7, 8, 9, 10]"
      ],
      "metadata": {
        "id": "Wa1IPaB8hcfO"
      }
    },
    {
      "cell_type": "code",
      "source": [
        "import array as arr\n",
        "\n",
        "a = arr.array('i', [1,2,3])\n",
        "\n",
        "print (\"Array before insertion : \",end =\" \")\n",
        "for i in range (0, 3):\n",
        "  print (a[i], end =\" \")\n",
        "print()\n",
        "\n",
        "a.insert(3,4)\n",
        "\n",
        "print (\"Array before insertion : \",end =\" \")\n",
        "for i in range (0, 3):\n",
        "  print (a[i], end =\" \")\n",
        "print()"
      ],
      "metadata": {
        "colab": {
          "base_uri": "https://localhost:8080/"
        },
        "id": "tF_IJWSdhylm",
        "outputId": "e43f1df6-6b12-4e37-8431-4e4876fba472"
      },
      "execution_count": 5,
      "outputs": [
        {
          "output_type": "stream",
          "name": "stdout",
          "text": [
            "Array before insertion :  1 2 3 \n",
            "Array before insertion :  1 2 3 \n"
          ]
        }
      ]
    },
    {
      "cell_type": "markdown",
      "source": [
        "Write a Python program to insert a new item before the second element in an existing array. Original array: numbers = [1, 2, 3, 4, 5, 6, 7, 8, 9, 10]"
      ],
      "metadata": {
        "id": "n4XtpuRAh2OP"
      }
    },
    {
      "cell_type": "code",
      "source": [
        "import array as arr\n",
        "\n",
        "a = arr.array('i', [1,2,3,4,5,6,7,8,9,10])\n",
        "\n",
        "print (\"Array before insertion : \",end =\" \")\n",
        "for i in range (0, 10):\n",
        "  print (a[i], end =\" \")\n",
        "print()\n",
        "\n",
        "a.insert(1,11)\n",
        "\n",
        "print (\"Array after insertion : \",end =\" \")\n",
        "for i in range (1, 11):\n",
        "  print (a[i], end =\" \")\n",
        "print()"
      ],
      "metadata": {
        "colab": {
          "base_uri": "https://localhost:8080/"
        },
        "id": "92-Qn9yziGCW",
        "outputId": "dd2e3eb2-0425-4397-c5ef-dd064a10e46f"
      },
      "execution_count": 7,
      "outputs": [
        {
          "output_type": "stream",
          "name": "stdout",
          "text": [
            "Array before insertion :  1 2 3 4 5 6 7 8 9 10 \n",
            "Array after insertion :  11 2 3 4 5 6 7 8 9 10 \n"
          ]
        }
      ]
    },
    {
      "cell_type": "markdown",
      "source": [
        "Write a Python program to get the length of the array. Original array: numbers = [5, 4, 3, 2, 1]"
      ],
      "metadata": {
        "id": "pq-5-8lJiHTH"
      }
    },
    {
      "cell_type": "code",
      "source": [
        "arr = [1,2,3,4,5]\n",
        "print(\"Original Array :\",arr)\n",
        "\n",
        "res = arr[::-1]\n",
        "print(\"Reversed Array :\",res)"
      ],
      "metadata": {
        "colab": {
          "base_uri": "https://localhost:8080/"
        },
        "id": "E4T4GmKyiKHm",
        "outputId": "aa5400cf-d1f6-4aef-f971-9299eb1ebe43"
      },
      "execution_count": 8,
      "outputs": [
        {
          "output_type": "stream",
          "name": "stdout",
          "text": [
            "Original Array : [1, 2, 3, 4, 5]\n",
            "Reversed Array : [5, 4, 3, 2, 1]\n"
          ]
        }
      ]
    }
  ]
}