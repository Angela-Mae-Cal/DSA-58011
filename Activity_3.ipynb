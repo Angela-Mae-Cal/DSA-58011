{
  "nbformat": 4,
  "nbformat_minor": 0,
  "metadata": {
    "colab": {
      "provenance": [],
      "authorship_tag": "ABX9TyNW0w5v7xTp9qWq89LDql1K",
      "include_colab_link": true
    },
    "kernelspec": {
      "name": "python3",
      "display_name": "Python 3"
    },
    "language_info": {
      "name": "python"
    }
  },
  "cells": [
    {
      "cell_type": "markdown",
      "metadata": {
        "id": "view-in-github",
        "colab_type": "text"
      },
      "source": [
        "<a href=\"https://colab.research.google.com/github/Angela-Mae-Cal/DSA-58011/blob/main/Activity_3.ipynb\" target=\"_parent\"><img src=\"https://colab.research.google.com/assets/colab-badge.svg\" alt=\"Open In Colab\"/></a>"
      ]
    },
    {
      "cell_type": "markdown",
      "source": [
        "Instruction: Type the python codes below in your Colab. After running your codes, answer the questions below."
      ],
      "metadata": {
        "id": "kLkuNTBsQioP"
      }
    },
    {
      "cell_type": "code",
      "execution_count": 1,
      "metadata": {
        "id": "KpdJkqu8Qh7J"
      },
      "outputs": [],
      "source": [
        "# Stack implementation in python\n",
        "# Creating a stack\n",
        "def create_stack():\n",
        "    stack = []\n",
        "    return stack\n",
        "\n",
        "# Creating an empty stack\n",
        "def is_empty(stack):\n",
        "\n",
        "    return len(stack) == 0\n",
        "\n",
        "# Adding items into the stack\n",
        "def push(stack, item):\n",
        "    stack.append(item)\n",
        "    print(\"Pushed Element: \" + item)\n",
        "\n",
        "# Removing an element from the stack\n",
        "def pop(stack):\n",
        "    if (is_empty(stack)):\n",
        "        return \"The stack is empty\"\n",
        "    return stack.pop()"
      ]
    },
    {
      "cell_type": "markdown",
      "source": [
        "Questions:\n"
      ],
      "metadata": {
        "id": "VGsazWWxQ-1O"
      }
    },
    {
      "cell_type": "markdown",
      "source": [
        "1. Upon typing the codes, what is the name of the abstract data type? How is it implemented?"
      ],
      "metadata": {
        "id": "HbIeum3ERFU-"
      }
    },
    {
      "cell_type": "code",
      "source": [
        "print(\"2) OUTPUT OF THE PROGRAM: \")\n",
        "stack = create_stack()\n",
        "push(stack, str(1))\n",
        "push(stack, str(2))\n",
        "push(stack, str(3))\n",
        "push(stack, str(4))\n",
        "push(stack, str(5))\n",
        "\n",
        "\n",
        "#3) pop 3 elements from the top of the stack\n",
        "stack.pop()\n",
        "stack.pop()\n",
        "stack.pop()\n",
        "\n",
        "#4) determine the length of the stack\n",
        "print(\" \")\n",
        "print(\"3) The length of the stack is: \", len(stack))\n",
        "print(\" \")\n",
        "print(\"4) The elements in the stack are:\"+ str(stack))"
      ],
      "metadata": {
        "colab": {
          "base_uri": "https://localhost:8080/"
        },
        "id": "F24mYcoZRJ9f",
        "outputId": "8c32f640-e63f-43cc-9049-081582dfcbb9"
      },
      "execution_count": 2,
      "outputs": [
        {
          "output_type": "stream",
          "name": "stdout",
          "text": [
            "2) OUTPUT OF THE PROGRAM: \n",
            "Pushed Element: 1\n",
            "Pushed Element: 2\n",
            "Pushed Element: 3\n",
            "Pushed Element: 4\n",
            "Pushed Element: 5\n",
            " \n",
            "3) The length of the stack is:  2\n",
            " \n",
            "4) The elements in the stack are:['1', '2']\n"
          ]
        }
      ]
    }
  ]
}