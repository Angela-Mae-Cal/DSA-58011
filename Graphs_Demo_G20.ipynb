{
  "nbformat": 4,
  "nbformat_minor": 0,
  "metadata": {
    "colab": {
      "provenance": [],
      "authorship_tag": "ABX9TyOHbuCBlqKMjwtcoM12SM6n",
      "include_colab_link": true
    },
    "kernelspec": {
      "name": "python3",
      "display_name": "Python 3"
    },
    "language_info": {
      "name": "python"
    }
  },
  "cells": [
    {
      "cell_type": "markdown",
      "metadata": {
        "id": "view-in-github",
        "colab_type": "text"
      },
      "source": [
        "<a href=\"https://colab.research.google.com/github/Angela-Mae-Cal/DSA-58011/blob/main/Graphs_Demo_G20.ipynb\" target=\"_parent\"><img src=\"https://colab.research.google.com/assets/colab-badge.svg\" alt=\"Open In Colab\"/></a>"
      ]
    },
    {
      "cell_type": "markdown",
      "source": [
        "1st Graph\n",
        "\n",
        "Data Elements using Dictionaries to implement Graphs"
      ],
      "metadata": {
        "id": "eHdMODyN-MPM"
      }
    },
    {
      "cell_type": "code",
      "execution_count": 4,
      "metadata": {
        "colab": {
          "base_uri": "https://localhost:8080/"
        },
        "id": "-ch07Bac93bc",
        "outputId": "4bca38a4-03f8-48a7-aec5-5d126e701f61"
      },
      "outputs": [
        {
          "output_type": "stream",
          "name": "stdout",
          "text": [
            "{'a': ['b', 'c'], 'b': ['a', 'd'], 'c': ['a', 'd'], 'd': ['b', 'c', 'd', 'e'], 'e': ['e']}\n"
          ]
        }
      ],
      "source": [
        "graph = {\n",
        "    'a': ['b','c'],\n",
        "    'b': ['a','d'],\n",
        "    'c': ['a','d'],\n",
        "    'd': ['b','c','d','e'],\n",
        "    'e': ['e']\n",
        "}\n",
        "print(graph)"
      ]
    },
    {
      "cell_type": "markdown",
      "source": [
        "2nd Graph\n",
        "\n",
        "Application of Data elements using dictionaries to implement Graphs"
      ],
      "metadata": {
        "id": "LkX1VWA0-Uu-"
      }
    },
    {
      "cell_type": "code",
      "source": [
        "G20 = {\n",
        "    '1': ['4'],\n",
        "    '2': ['1','3','4'],\n",
        "    '3': ['2','4'],\n",
        "    '4': [],\n",
        "}\n",
        "print(G20)"
      ],
      "metadata": {
        "colab": {
          "base_uri": "https://localhost:8080/"
        },
        "id": "Vz8LDkqX-YBk",
        "outputId": "6d9a82d7-a9ed-47b8-965b-05b617de4b36"
      },
      "execution_count": 3,
      "outputs": [
        {
          "output_type": "stream",
          "name": "stdout",
          "text": [
            "{'1': ['4'], '2': ['1', '3', '4'], '3': ['2', '4'], '4': []}\n"
          ]
        }
      ]
    }
  ]
}