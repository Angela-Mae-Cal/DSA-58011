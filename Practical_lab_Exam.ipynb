{
  "nbformat": 4,
  "nbformat_minor": 0,
  "metadata": {
    "colab": {
      "name": "Practical_lab_Exam.ipynb",
      "provenance": [],
      "authorship_tag": "ABX9TyMazUzOzZez/QWktOKy2FmI",
      "include_colab_link": true
    },
    "kernelspec": {
      "name": "python3",
      "display_name": "Python 3"
    },
    "language_info": {
      "name": "python"
    }
  },
  "cells": [
    {
      "cell_type": "markdown",
      "metadata": {
        "id": "view-in-github",
        "colab_type": "text"
      },
      "source": [
        "<a href=\"https://colab.research.google.com/github/Angela-Mae-Cal/DSA-58011/blob/main/Practical_lab_Exam.ipynb\" target=\"_parent\"><img src=\"https://colab.research.google.com/assets/colab-badge.svg\" alt=\"Open In Colab\"/></a>"
      ]
    },
    {
      "cell_type": "code",
      "execution_count": 2,
      "metadata": {
        "colab": {
          "base_uri": "https://localhost:8080/"
        },
        "id": "whn8c3xQq_S-",
        "outputId": "36c5ae01-b118-479f-9153-f762cf37ef20"
      },
      "outputs": [
        {
          "output_type": "stream",
          "name": "stdout",
          "text": [
            "the sum of the test score is \n",
            "381\n"
          ]
        }
      ],
      "source": [
        "numbers = {28,62,98,47,68,78}\n",
        "\n",
        "Sum = sum(numbers)\n",
        "print('the sum of the test score is ')\n",
        "print(Sum)"
      ]
    }
  ]
}