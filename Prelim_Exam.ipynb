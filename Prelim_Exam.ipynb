{
  "nbformat": 4,
  "nbformat_minor": 0,
  "metadata": {
    "colab": {
      "provenance": [],
      "authorship_tag": "ABX9TyNHBc7wg0dRiUDcGqu1I7Sl",
      "include_colab_link": true
    },
    "kernelspec": {
      "name": "python3",
      "display_name": "Python 3"
    },
    "language_info": {
      "name": "python"
    }
  },
  "cells": [
    {
      "cell_type": "markdown",
      "metadata": {
        "id": "view-in-github",
        "colab_type": "text"
      },
      "source": [
        "<a href=\"https://colab.research.google.com/github/Angela-Mae-Cal/DSA-58011/blob/main/Prelim_Exam.ipynb\" target=\"_parent\"><img src=\"https://colab.research.google.com/assets/colab-badge.svg\" alt=\"Open In Colab\"/></a>"
      ]
    },
    {
      "cell_type": "markdown",
      "source": [
        "Prelim Exam "
      ],
      "metadata": {
        "id": "jny_bJJjeUCf"
      }
    },
    {
      "cell_type": "code",
      "source": [
        "CompInt = [4,6,8,9]\n",
        "print(\"Composite Integers : :\",CompInt)\n",
        "print(\"Number of Composite Integers :\",len(CompInt))"
      ],
      "metadata": {
        "colab": {
          "base_uri": "https://localhost:8080/"
        },
        "id": "fepytlXYhPDV",
        "outputId": "7fe8dd93-3694-41df-fc1d-7320d516fdb5"
      },
      "execution_count": 3,
      "outputs": [
        {
          "output_type": "stream",
          "name": "stdout",
          "text": [
            "Composite Integers less than 10 but greater than 1 : [4, 6, 8, 9]\n",
            "Number of Composite Integers : 4\n"
          ]
        }
      ]
    }
  ]
}