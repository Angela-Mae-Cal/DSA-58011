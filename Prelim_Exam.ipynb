{
  "nbformat": 4,
  "nbformat_minor": 0,
  "metadata": {
    "colab": {
      "provenance": [],
      "authorship_tag": "ABX9TyOl0Zcrh5JpaOyDZfCX1e5T",
      "include_colab_link": true
    },
    "kernelspec": {
      "name": "python3",
      "display_name": "Python 3"
    },
    "language_info": {
      "name": "python"
    }
  },
  "cells": [
    {
      "cell_type": "markdown",
      "metadata": {
        "id": "view-in-github",
        "colab_type": "text"
      },
      "source": [
        "<a href=\"https://colab.research.google.com/github/Angela-Mae-Cal/DSA-58011/blob/main/Prelim_Exam.ipynb\" target=\"_parent\"><img src=\"https://colab.research.google.com/assets/colab-badge.svg\" alt=\"Open In Colab\"/></a>"
      ]
    },
    {
      "cell_type": "markdown",
      "source": [
        "Prelim Exam "
      ],
      "metadata": {
        "id": "jny_bJJjeUCf"
      }
    },
    {
      "cell_type": "code",
      "execution_count": 2,
      "metadata": {
        "colab": {
          "base_uri": "https://localhost:8080/"
        },
        "id": "NAt48ZV3d0a_",
        "outputId": "48fdccd3-cf6a-4224-b6bf-2bd0572d900c"
      },
      "outputs": [
        {
          "output_type": "stream",
          "name": "stdout",
          "text": [
            "2\n",
            "8 4\n"
          ]
        }
      ],
      "source": [
        "def checkComposite(n):\n",
        " \n",
        "\n",
        "    if (n == 1 or n == 2):\n",
        "        return false\n",
        "    for i in range(2, n):\n",
        " \n",
        "        if (n % i == 0 and i != n):\n",
        "            return True\n",
        " \n",
        "    return False\n",
        " \n",
        "def largestCompositeSum(arr, n):\n",
        " \n",
        "    temp = []\n",
        " \n",
        "    for i in range(n):\n",
        " \n",
        "        if (arr[i] % 2 == 0):\n",
        "            temp.append(arr[i])\n",
        "     \n",
        "    for i in range(n):\n",
        "        if (arr[i] % 2 == 1):\n",
        "            temp.append(arr[i])\n",
        " \n",
        "    cursum = 0;\n",
        "\n",
        "    maxlen = 0;\n",
        " \n",
        "    for i in range(n):\n",
        "        cursum += temp[i]\n",
        " \n",
        "        if (checkComposite(cursum)\n",
        "            and cursum > maxlen):\n",
        "            maxlen = i + 1\n",
        " \n",
        "    print(maxlen)\n",
        "     \n",
        "    l = len(temp) - maxlen\n",
        "    for i in range(l):\n",
        "        temp.remove(temp[i + maxlen])\n",
        "         \n",
        "    print(*temp)\n",
        "     \n",
        "    return\n",
        " \n",
        "n = 3\n",
        "arr = [8, 1, 4]\n",
        " \n",
        "largestCompositeSum(arr, n);"
      ]
    },
    {
      "cell_type": "code",
      "source": [
        "CompInt = [4,6,8,9]\n",
        "print(\"Composite Integers less than 10 but greater than 1 :\",CompInt)\n",
        "print(\"Number of Composite Integers :\",len(CompInt))\n"
      ],
      "metadata": {
        "colab": {
          "base_uri": "https://localhost:8080/"
        },
        "id": "fepytlXYhPDV",
        "outputId": "7fe8dd93-3694-41df-fc1d-7320d516fdb5"
      },
      "execution_count": 3,
      "outputs": [
        {
          "output_type": "stream",
          "name": "stdout",
          "text": [
            "Composite Integers less than 10 but greater than 1 : [4, 6, 8, 9]\n",
            "Number of Composite Integers : 4\n"
          ]
        }
      ]
    }
  ]
}