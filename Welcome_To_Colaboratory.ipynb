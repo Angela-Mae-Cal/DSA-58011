{
  "cells": [
    {
      "cell_type": "markdown",
      "metadata": {
        "id": "view-in-github",
        "colab_type": "text"
      },
      "source": [
        "<a href=\"https://colab.research.google.com/github/Angela-Mae-Cal/DSA-58011/blob/main/Welcome_To_Colaboratory.ipynb\" target=\"_parent\"><img src=\"https://colab.research.google.com/assets/colab-badge.svg\" alt=\"Open In Colab\"/></a>"
      ]
    },
    {
      "cell_type": "markdown",
      "source": [
        "LONG QUIZ 1 : \n",
        "\n",
        "              LINKED - LIST"
      ],
      "metadata": {
        "id": "_gAvYVHhgSBw"
      }
    },
    {
      "cell_type": "code",
      "source": [
        "class Node:\n",
        "\n",
        "    def __init__(self, data):\n",
        "        self.data = data\n",
        "        self.next = None\n",
        "  \n",
        "class LinkedList:\n",
        "  \n",
        "    def __init__(self):\n",
        "        self.head = None\n",
        "  \n",
        "    def reverse(self):\n",
        "        prev = None\n",
        "        current = self.head\n",
        "        while(current is not None):\n",
        "            next = current.next\n",
        "            current.next = prev\n",
        "            prev = current\n",
        "            current = next\n",
        "        self.head = prev\n",
        "\n",
        "    def push(self, new_data):\n",
        "        new_node = Node(new_data)\n",
        "        new_node.next = self.head\n",
        "        self.head = new_node\n",
        "\n",
        "    def printList(self):\n",
        "        temp = self.head\n",
        "        while(temp):\n",
        "            print (temp.data,end=\" \")\n",
        "            temp = temp.next\n",
        "\n",
        "llist = LinkedList()\n",
        "llist.push(\"CAL\")\n",
        "llist.push(\"AMOR\")\n",
        "llist.push(\"ANGELA MAE\")\n",
        "  \n",
        "print (\"Full Name:\")\n",
        "llist.printList()\n",
        "llist.reverse()\n",
        "print (\"\\nReversed Full Name:\")\n",
        "llist.printList()"
      ],
      "metadata": {
        "colab": {
          "base_uri": "https://localhost:8080/"
        },
        "id": "qc6aGPvadh8f",
        "outputId": "6c6c5b18-daee-4cdc-ef72-06a884ad8791"
      },
      "execution_count": 7,
      "outputs": [
        {
          "output_type": "stream",
          "name": "stdout",
          "text": [
            "Full Name:\n",
            "ANGELA MAE AMOR CAL \n",
            "Reversed Full Name:\n",
            "CAL AMOR ANGELA MAE "
          ]
        }
      ]
    }
  ],
  "metadata": {
    "colab": {
      "collapsed_sections": [],
      "name": "Welcome To Colaboratory",
      "provenance": [],
      "include_colab_link": true
    },
    "kernelspec": {
      "display_name": "Python 3",
      "name": "python3"
    }
  },
  "nbformat": 4,
  "nbformat_minor": 0
}